{
 "cells": [
  {
   "cell_type": "code",
   "execution_count": 1,
   "id": "c17cd59f",
   "metadata": {},
   "outputs": [],
   "source": [
    "import qsa_pwfa.species as species_classes"
   ]
  },
  {
   "cell_type": "markdown",
   "id": "82d441b4",
   "metadata": {},
   "source": [
    "# Uniform plasma"
   ]
  },
  {
   "cell_type": "code",
   "execution_count": 2,
   "id": "fe9af52e",
   "metadata": {},
   "outputs": [
    {
     "name": "stdout",
     "output_type": "stream",
     "text": [
      "NeutralUniformPlasma\n",
      "\n",
      "    User class to create the neutral uniform plasma species.\n",
      "    \n",
      "\n",
      "        Initialize the plasma particles.\n",
      "        \n",
      "        Args:\n",
      "            L_r (float, optional): Radial size of the plasma. Is only used\n",
      "              for uniform grids. Defaults to None, which assumes that \n",
      "              `r_grid_user` is used instead.\n",
      "            N_r (integer, optional): Number of particles that presents the\n",
      "              size of the radial grid. Is only used for uniform grids. \n",
      "              Defaults to None, which assumes that `r_grid_user` is used \n",
      "              instead.\n",
      "            r_grid_user (float ndarray, optional): Radial grid that presents \n",
      "              the plasma particles. Defaults to None, which assumes that \n",
      "              `L_r` and `N_r` are used instead.\n",
      "            n_p (float, optional): Plasma density in the units of reference\n",
      "              plasma density. Defaults to 1.0.\n",
      "            particle_boundary (int, optional): If set to 1, the particles that\n",
      "              cross initial plasma radius do not experience the radial force\n",
      "              (still carrying the charge). Defaults to 1.\n",
      "            q (float, optional): Charge of plasma moving species in units of\n",
      "              elementary charge `e`. Defaults to -1.0.\n",
      "            max_weight_QSA (float, optional): Set the limit for the particle \n",
      "              _weigth_ allowed by QSA, and defined as `gamma / (Psi + 1)`.\n",
      "              Defaults to 35.0.\n",
      "        \n"
     ]
    }
   ],
   "source": [
    "print('NeutralUniformPlasma')\n",
    "print(species_classes.NeutralUniformPlasma.__doc__)\n",
    "print(species_classes.NeutralUniformPlasma.__init__.__doc__)"
   ]
  },
  {
   "cell_type": "markdown",
   "id": "a396dbd9",
   "metadata": {},
   "source": [
    "# Gaussian bunch"
   ]
  },
  {
   "cell_type": "code",
   "execution_count": 3,
   "id": "a8c1decc",
   "metadata": {},
   "outputs": [
    {
     "name": "stdout",
     "output_type": "stream",
     "text": [
      "GaussianBunch\n",
      "\n",
      "    User class to create Gaussian bunch species.\n",
      "    \n",
      "\n",
      "        Initialize the Gaussian bunch.\n",
      "\n",
      "        Args:\n",
      "            simulation (Simulation): Simulation object\n",
      "            n_p (float): Maximum charge density in units of reference \n",
      "              plasma density.\n",
      "            sigma_r (float): radial RSM size of the bunch.\n",
      "            sigma_xi (float): longitudinal RSM size of the bunch\n",
      "            xi_0 (float, optional): Initial position of the bunch. If None,\n",
      "              the beam is set as driver at `xi = truncate_factor * sigma_xi`.\n",
      "              Defaults to None.\n",
      "            N_r (int, optional): Number of particles along radial axis.\n",
      "              Defaults to 512.\n",
      "            gamma_b (float, optional): Mean Lorentz factor of the bunch.\n",
      "              Defaults to 10 000.\n",
      "            q (float, optional): Charge of bunch particle species in units of\n",
      "              elementary charge `e`. Defaults to -1.0.\n",
      "            delta_gamma (float, optional): Relative RMS spread of Lorentz factor\n",
      "              in the bunch. Defaults to 0.0.\n",
      "            eps_r (float, optional): Normalized emittance of the bunch.\n",
      "              Defaults to 0.0.\n",
      "            n_cycles (int, optional): Number of sub-steps to be performed for\n",
      "              bunch motion over the time step. Defaults to 1.\n",
      "            truncate_factor (float, optional): Factor that defines how far from\n",
      "            the bunch center the particles are created. In units of `sigma_xi` and\n",
      "            `sigma_r`. Defaults to 4.0.\n",
      "        \n"
     ]
    }
   ],
   "source": [
    "print('GaussianBunch')\n",
    "print(species_classes.GaussianBunch.__doc__)\n",
    "print(species_classes.GaussianBunch.__init__.__doc__)"
   ]
  },
  {
   "cell_type": "markdown",
   "id": "bd359a03",
   "metadata": {},
   "source": [
    "# Radially non-uniform plasma"
   ]
  },
  {
   "cell_type": "code",
   "execution_count": 4,
   "id": "6aeb1f91",
   "metadata": {},
   "outputs": [
    {
     "name": "stdout",
     "output_type": "stream",
     "text": [
      "NeutralNoneUniformPlasma\n",
      "\n",
      "    User class to create the neutral non-uniform plasma species.\n",
      "    \n",
      "\n",
      "        Initialize the plasma particles.\n",
      "\n",
      "        Args:\n",
      "            dens_func (function): Function of radial coordinate that defines\n",
      "              plasma density profile\n",
      "            L_r (float, optional): Radial size of the plasma. Is only used\n",
      "              for uniform grids. Defaults to None, which assumes that \n",
      "              `r_grid_user` is used instead.\n",
      "            N_r (integer, optional): Number of particles that presents the\n",
      "              size of the radial grid. Is only used for uniform grids. \n",
      "              Defaults to None, which assumes that `r_grid_user` is used \n",
      "              instead.\n",
      "            r_grid_user (float ndarray, optional): Radial grid that presents \n",
      "              the plasma particles. Defaults to None, which assumes that \n",
      "              `L_r` and `N_r` are used instead.\n",
      "            particle_boundary (int, optional): If set to 1, the particles that\n",
      "              cross initial plasma radius do not experience the radial force\n",
      "              (still carrying the charge). Defaults to 1.\n",
      "            q (float, optional): Charge of plasma moving species in units of\n",
      "              elementary charge `e`. Defaults to -1.0.\n",
      "            max_weight_QSA (float, optional): Set the limit for the particle \n",
      "              _weigth_ allowed by QSA, and defined as `gamma / (Psi + 1)`.\n",
      "              Defaults to 35.0.\n",
      "        \n"
     ]
    }
   ],
   "source": [
    "print('NeutralNoneUniformPlasma')\n",
    "print(species_classes.NeutralNoneUniformPlasma.__doc__)\n",
    "print(species_classes.NeutralNoneUniformPlasma.__init__.__doc__)"
   ]
  },
  {
   "cell_type": "markdown",
   "id": "e77ffbca",
   "metadata": {},
   "source": [
    "# Internal species classes"
   ]
  },
  {
   "cell_type": "code",
   "execution_count": 5,
   "id": "0d37eaeb",
   "metadata": {},
   "outputs": [
    {
     "name": "stdout",
     "output_type": "stream",
     "text": [
      "BaseSpecie\n",
      "\n",
      "    Main and base class for the particle objects.\n",
      "    \n",
      "    Contains following methods:\n",
      "    create attributes associated with the fields \n",
      "      as empty r-like arrays.\n",
      "    generate radial grid.\n",
      "    wrapper methods that call numba-compiled functions that\n",
      "      calculate terms for electromagnetic field.\n",
      "    \n",
      "PlasmaSpecie\n",
      "\n",
      "    Generic class for plasma QSA particle species.\n",
      "    \n",
      "    Contains following methods:\n",
      "    reinitialize the electromagnetic fields.\n",
      "    calculate `v_z` of QSA particles.\n",
      "    check and suppress the particles that violate QSA.\n",
      "    calculate the force on QSA particles without \n",
      "      account for the implicit term`dAr_dxi`.\n",
      "    calculate the full force on QSA particles.\n",
      "    calculate the radial acceleration of QSA particles.\n",
      "    advance radial coordinates and velocities of \n",
      "      QSA particles and treat the axis crossing.\n",
      "    reset all plasma attributes to initial state.\n",
      "    \n",
      "BunchSpecie\n",
      "\n",
      "    Generic class for relativistic bunch particle species.\n",
      "    \n",
      "    Contains following methods:\n",
      "    initialize all bunch particles in \n",
      "      the (xi, r) space and create the slice attributes.\n",
      "    load the slice at a given xi position.\n",
      "    advance coordinates and velocities of \n",
      "      bunch particles in time and treat the axis crossing.\n",
      "    calculate normalized variation of the\n",
      "      longitudinal electric field over the slice and weighted \n",
      "      with density (Delta).\n",
      "    \n",
      "Grid\n",
      "\n",
      "    Specific class of a Grid used by FieldDiagnostics.\n",
      "    \n"
     ]
    }
   ],
   "source": [
    "print('BaseSpecie')\n",
    "print(species_classes.BaseSpecie.__doc__)\n",
    "print('PlasmaSpecie')\n",
    "print(species_classes.PlasmaSpecie.__doc__)\n",
    "print('BunchSpecie')\n",
    "print(species_classes.BunchSpecie.__doc__)\n",
    "print('Grid')\n",
    "print(species_classes.Grid.__doc__)"
   ]
  }
 ],
 "metadata": {
  "kernelspec": {
   "display_name": "Python 3",
   "language": "python",
   "name": "python3"
  },
  "language_info": {
   "codemirror_mode": {
    "name": "ipython",
    "version": 3
   },
   "file_extension": ".py",
   "mimetype": "text/x-python",
   "name": "python",
   "nbconvert_exporter": "python",
   "pygments_lexer": "ipython3",
   "version": "3.9.4"
  }
 },
 "nbformat": 4,
 "nbformat_minor": 5
}
